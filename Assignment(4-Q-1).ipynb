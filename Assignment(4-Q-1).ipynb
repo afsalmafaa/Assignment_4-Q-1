{
 "cells": [
  {
   "cell_type": "code",
   "execution_count": 15,
   "id": "c69b99d0",
   "metadata": {},
   "outputs": [
    {
     "name": "stdout",
     "output_type": "stream",
     "text": [
      "sample input: 10\n",
      "sample output: 35\n"
     ]
    }
   ],
   "source": [
    "add_25 = lambda x:x+25\n",
    "\n",
    "# sample input\n",
    "number = 10\n",
    "\n",
    "# calculate and print the output\n",
    "result = add_25(number)\n",
    "print(\"sample input:\",number)\n",
    "print(\"sample output:\",result)"
   ]
  }
 ],
 "metadata": {
  "kernelspec": {
   "display_name": "Python 3 (ipykernel)",
   "language": "python",
   "name": "python3"
  },
  "language_info": {
   "codemirror_mode": {
    "name": "ipython",
    "version": 3
   },
   "file_extension": ".py",
   "mimetype": "text/x-python",
   "name": "python",
   "nbconvert_exporter": "python",
   "pygments_lexer": "ipython3",
   "version": "3.10.9"
  }
 },
 "nbformat": 4,
 "nbformat_minor": 5
}
